{
 "cells": [
  {
   "cell_type": "code",
   "execution_count": 4,
   "id": "6a14f225",
   "metadata": {},
   "outputs": [],
   "source": [
    "import numpy as np #for mathematical computation\n",
    "import matplotlib.pyplot as plt #for plotting the graph"
   ]
  },
  {
   "cell_type": "code",
   "execution_count": 1048,
   "id": "3361e9d5",
   "metadata": {},
   "outputs": [],
   "source": [
    "def sigmoid(Z):\n",
    "    A = 1/(1+np.exp(-Z)) #sigmoid function = 1/(1+exp(-z))\n",
    "    cache = Z  \n",
    "    return A, cache\n",
    "\n",
    "def relu(Z):    \n",
    "    A = np.maximum(0,Z)  #Relu function = max(0, Z)\n",
    "    cache = Z \n",
    "    return A, cache\n",
    "\n",
    "def relu_backward(dA, cache):\n",
    "    Z = cache\n",
    "    dZ = np.array(dA, copy=True) # just converting dz to a correct object.   \n",
    "    dZ[Z <= 0] = 0   \n",
    "    return dZ\n",
    "def sigmoid_backward(dA, cache):\n",
    "    Z = cache\n",
    "    \n",
    "    s = 1/(1+np.exp(-Z))\n",
    "    dZ = dA * s * (1-s)    \n",
    "    return dZ"
   ]
  },
  {
   "cell_type": "code",
   "execution_count": 1049,
   "id": "f1a28a26",
   "metadata": {},
   "outputs": [],
   "source": [
    "def linear_forward(A, W):\n",
    "    Z = np.dot(A, W.T)  # Z = X.Transpose(W)\n",
    "    cache = (A, W)\n",
    "    return Z, cache"
   ]
  },
  {
   "cell_type": "code",
   "execution_count": 1050,
   "id": "6e5c611f",
   "metadata": {},
   "outputs": [],
   "source": [
    "def linear_activation_forward(A_prev, W, activation):\n",
    "    if activation == \"sigmoid\":\n",
    "        # Inputs: \"A_prev, W, b\". Outputs: \"A, activation_cache\".\n",
    "        Z, linear_cache = linear_forward(A_prev, W) # This \"linear_cache\" contains (A_prev, W, b)\n",
    "        A, activation_cache = sigmoid(Z) # This \"activation_cache\" contains \"Z\"\n",
    "\n",
    "    \n",
    "    elif activation == \"relu\":\n",
    "        # Inputs: \"A_prev, W, b\". Outputs: \"A, activation_cache\".\n",
    "        Z, linear_cache = linear_forward(A_prev, W) # This \"linear_cache\" contains (A_prev, W, b)\n",
    "        A, activation_cache = relu(Z) # This \"activation_cache\" contains \"Z\"\n",
    "    cache = (linear_cache, activation_cache)\n",
    "\n",
    "    return A, cache"
   ]
  },
  {
   "cell_type": "code",
   "execution_count": 1051,
   "id": "87b30dfb",
   "metadata": {},
   "outputs": [],
   "source": [
    "def iterate_minibatches(inputs, targets, batchsize, shuffle=False):\n",
    "    assert inputs.shape[0] == targets.shape[0]\n",
    "    if shuffle:\n",
    "        indices = np.arange(inputs.shape[0])\n",
    "        np.random.shuffle(indices)\n",
    "    for start_idx in range(0, inputs.shape[0] - batchsize + 1, batchsize):\n",
    "        if shuffle:\n",
    "            excerpt = indices[start_idx:start_idx + batchsize]\n",
    "        else:\n",
    "            excerpt = slice(start_idx, start_idx + batchsize)\n",
    "        yield inputs[excerpt], targets[excerpt]"
   ]
  },
  {
   "cell_type": "code",
   "execution_count": 1052,
   "id": "5c658c9d",
   "metadata": {},
   "outputs": [],
   "source": [
    "def compute_cost(AL, Y):            #AL = Predicted value, Y = True Value\n",
    "    m = Y.shape[1]                  #using mean square error to compute the loss\n",
    "    cost = np.square(Y - AL).mean() #means square error = 1/2*(y-AL)**2\n",
    "    return cost"
   ]
  },
  {
   "cell_type": "code",
   "execution_count": 1053,
   "id": "bb8f7ad7",
   "metadata": {},
   "outputs": [],
   "source": [
    "def linear_backward(dZ, cache):\n",
    "    # Here cache is \"linear_cache\" containing (A_prev, W, b) coming from the forward propagation in the current layer\n",
    "\n",
    "    A_prev, W= cache\n",
    "    m = A_prev.shape[1]\n",
    "\n",
    "    dW = (1/m) * np.dot(dZ.T, A_prev)  #dL/dw = dl/dz*output_from_previous_neurons, where L is cost function\n",
    "    dA_prev = np.dot(dZ, W)      #dl/la_prev  = dl/dz* W    \n",
    "    \n",
    "    return dA_prev, dW"
   ]
  },
  {
   "cell_type": "code",
   "execution_count": 1054,
   "id": "54d43fe6",
   "metadata": {},
   "outputs": [],
   "source": [
    "def linear_activation_backward(dA, cache, activation):\n",
    "\n",
    "    linear_cache, activation_cache = cache\n",
    "    \n",
    "    if activation == \"relu\":\n",
    "      \n",
    "        dZ = relu_backward(dA, activation_cache)\n",
    "    \n",
    "    dA_prev, dW = linear_backward(dZ, linear_cache)\n",
    "    \n",
    "    \n",
    "    return dA_prev, dW"
   ]
  },
  {
   "cell_type": "code",
   "execution_count": 1055,
   "id": "2b6b886d",
   "metadata": {},
   "outputs": [],
   "source": [
    "def L_model_backward(AL, Y, caches):\n",
    "\n",
    "    grads = {}\n",
    "    L = len(caches) # the number of layers\n",
    "    m = AL.shape[1]\n",
    "    \n",
    "     # after this line, Y is the same shape as AL\n",
    "    \n",
    "    # Initializing the backpropagation\n",
    "\n",
    "    dAL = AL-Y\n",
    "\n",
    "    \n",
    "    # Lth layer (SIGMOID -> LINEAR) gradients. Inputs: \"dAL, current_cache\". Outputs: \"grads[\"dAL-1\"], grads[\"dWL\"], grads[\"dbL\"]\n",
    "\n",
    "    current_cache = caches[L-1] # Last Layer\n",
    "    grads[\"dA\" + str(L-1)], grads[\"dW\" + str(L)] = linear_activation_backward(dAL, current_cache, \"relu\")\n",
    "    \n",
    "    # Loop from l=L-2 to l=0\n",
    "    for l in reversed(range(L-1)):\n",
    "        # lth layer: (RELU -> LINEAR) gradients.\n",
    "        # Inputs: \"grads[\"dA\" + str(l + 1)], current_cache\". Outputs: \"grads[\"dA\" + str(l)] , grads[\"dW\" + str(l + 1)] , grads[\"db\" + str(l + 1)] \n",
    "        current_cache = caches[l]\n",
    "        dA_prev_temp, dW_temp= linear_activation_backward(grads[\"dA\" + str(l + 1)], current_cache, activation = \"relu\")\n",
    "        grads[\"dA\" + str(l)] = dA_prev_temp\n",
    "        grads[\"dW\" + str(l + 1)] = dW_temp\n",
    "\n",
    "    return grads"
   ]
  },
  {
   "cell_type": "code",
   "execution_count": 1056,
   "id": "2fe728f7",
   "metadata": {},
   "outputs": [],
   "source": [
    "def update_parameters(parameters, grads, learning_rate):\n",
    "   \n",
    "    L = len(parameters) // 2 # number of layers in the neural network\n",
    "\n",
    "    # Update rule for each parameter. Use a for loop.\n",
    "\n",
    "    for l in range(L):\n",
    "        parameters[\"W\" + str(l+1)] = parameters[\"W\" + str(l+1)] - learning_rate * grads[\"dW\" + str(l+1)]\n",
    "\n",
    "    return parameters"
   ]
  },
  {
   "cell_type": "code",
   "execution_count": 10,
   "id": "5cbe5d16",
   "metadata": {},
   "outputs": [],
   "source": [
    "class network(object):\n",
    "    def __init__(self, lst=[]):\n",
    "        self.lst = lst\n",
    "        \n",
    "        self.parameters = {} #to store wieghts\n",
    "        \n",
    "        self.no_layer = len(self.lst) #no. of total layers in the network\n",
    "        \n",
    "        print(self.no_layer)\n",
    "        \n",
    "        self.hidden_layers = self.lst[1:-1] #total number of hidden layes in the network\n",
    "        \n",
    "        self.layer_dims = [lst[-1]] #initializing list which store ecah layer dimensions\n",
    "        \n",
    "        self.batch_size = 2 #batch size\n",
    "        \n",
    "        self.learning_rate = 0.1 #learning rate\n",
    "        \n",
    "        for hidden in self.hidden_layers:\n",
    "            self.layer_dims.append(hidden)\n",
    "            \n",
    "        self.layer_dims.append(lst[-1])\n",
    "                           \n",
    "        for l in range(1, self.no_layer): # initializing weights for each layers\n",
    "            self.parameters['W' + str(l)] = np.random.randn(self.layer_dims[l], self.layer_dims[l-1])*0.1\n",
    "#         print(self.parameters[\"W1\"].shape)\n",
    "#         print(self.parameters[\"W2\"].shape)\n",
    "#         print(self.parameters[\"W3\"].shape)\n",
    "        \n",
    "\n",
    " \n",
    "\n",
    "    def feed_forward(self,example):\n",
    "\n",
    "#        \"forward propagation\"\n",
    "        caches = [] # to store all linear and activation results \n",
    "        A = example\n",
    "        L = len(self.parameters)  \n",
    " \n",
    "        \n",
    "     # Implement [LINEAR -> RELU]*(L-1). Add \"cache\" to the \"caches\" list.\n",
    "    \n",
    "        for l in range(1, L):\n",
    "            \n",
    "            A_prev = A \n",
    "            \n",
    "            A, cache = linear_activation_forward(A_prev, self.parameters['W' + str(l)], \"relu\") #output from hidden layers\n",
    "            \n",
    "            caches.append(cache)\n",
    "    \n",
    "     # Implement LINEAR -> RELU. Add \"cache\" to the \"caches\" list.\n",
    "        AL, cache = linear_activation_forward(A, self.parameters['W' + str(L)],  \"relu\") #output from output layers\n",
    "        \n",
    "        caches.append(cache) \n",
    "     \n",
    "        feed_forward_op = AL, caches\n",
    "\n",
    "        return feed_forward_op\n",
    "\n",
    " \n",
    "\n",
    " \n",
    "\n",
    "    def batch_sgd_backprop(self,X,Y):\n",
    "\n",
    "#        \"X-input array\"\n",
    "        self.X = X\n",
    "#        \"Y-output array\"\n",
    "        self.Y = Y\n",
    "\n",
    "        loss_list = [] #keep track of cost for every epoch\n",
    "        for epoch in range(0,100): #training for 100 epochs\n",
    "            mini_batches = iterate_minibatches(X, Y, self.batch_size) # creating batch for X and Y\n",
    "            loss = 0 #initialize loss = 0 for every epoch\n",
    "            for batch in mini_batches:\n",
    "                X_batch, Y_batch = batch\n",
    "              \n",
    "                feed_forward_op = self.feed_forward(X_batch) #getting forward propagation results\n",
    "#                 print(feed_forward_op[0])\n",
    "                AL, caches = feed_forward_op\n",
    "    \n",
    "                cost = compute_cost(AL, Y_batch) # computing the cost from output and true output value\n",
    "        \n",
    "                grads = L_model_backward(AL, Y_batch, caches) #calculating the gradients by back propagation\n",
    "#                 \"Update weights\"\n",
    "                self.parameters = update_parameters(self.parameters, grads, self.learning_rate) #updating the weights\n",
    "                \n",
    "                loss += cost #update loss = loss + cost\n",
    "                \n",
    "            print(\"loss after {} : {}\".format(epoch, loss))\n",
    "            \n",
    "            loss_list.append(loss) #append the loss\n",
    " \n",
    "           #plotting the graph between loss and epochs\n",
    "        plt.plot(np.squeeze(loss_list))\n",
    "        plt.ylabel('cost')\n",
    "        plt.xlabel('iterations (per epoch)')\n",
    "        plt.title(\"Learning rate =\" + str(self.learning_rate))\n",
    "        plt.show()\n",
    " \n",
    "\n",
    "    def single_example_backprop(self,x,y):\n",
    "        self.x = x\n",
    "#        \"Y-output array\"\n",
    "        self.x = Y\n",
    "#        \"Update weights\"\n",
    "        loss_list = []  #keep track of cost for every epoch\n",
    "        for epoch in range(0,100):#training for 100 epochs\n",
    "            loss = 0 #initialize loss = 0 for every epoch\n",
    "            for batch in zip(x,y):\n",
    "                X_batch, Y_batch = batch #passing the one vector of X and Y\n",
    "                X_batch, Y_batch = X_batch.reshape(1, X_batch.shape[0]), Y_batch.reshape(1, Y_batch.shape[0])\n",
    "                \n",
    "                feed_forward_op = self.feed_forward(X_batch) #getting forward propagation results\n",
    "              \n",
    "\n",
    "                AL, caches = feed_forward_op\n",
    "                \n",
    "                cost = compute_cost(AL, Y_batch)   #computing the cost from output and true output value\n",
    "                \n",
    "                grads = L_model_backward(AL, Y_batch, caches)   #calculating the gradients by back propagation\n",
    "                \n",
    "                self.parameters = update_parameters(self.parameters, grads, self.learning_rate)   #updating the weights\n",
    "                loss += cost\n",
    "                \n",
    "            print(\"loss after {} : {}\".format(epoch, loss))\n",
    "            loss_list.append(loss) #append the loss\n",
    " \n",
    "            #plotting the graph between loss and epochs\n",
    "        plt.plot(np.squeeze(loss_list))\n",
    "        plt.ylabel('cost')\n",
    "        plt.xlabel('iterations (per epoch)')\n",
    "        plt.title(\"Learning rate =\" + str(self.learning_rate))\n",
    "        plt.show()\n",
    "      "
   ]
  },
  {
   "cell_type": "code",
   "execution_count": 11,
   "id": "b8384727",
   "metadata": {},
   "outputs": [],
   "source": [
    "x1 = np.random.randn(1, 4) #creating the dataset\n",
    "x2 = np.random.randn(1, 4)\n",
    "x3 = np.random.randn(1, 4)\n",
    "x4 = np.random.randn(1, 4)\n",
    "x5 = np.random.randn(1, 4)\n",
    "x6 = np.random.randn(1, 4)\n",
    "x7 = np.random.randn(1, 4)\n",
    "x8 = np.random.randn(1, 4)\n",
    "\n",
    "y1 = x1**2\n",
    "y2 = x2**2\n",
    "y3 = x3**2\n",
    "y4 = x4**2\n",
    "y5 = x5**2\n",
    "y6 = x6**2\n",
    "y7 = x7**2\n",
    "y8 = x8**2"
   ]
  },
  {
   "cell_type": "code",
   "execution_count": 12,
   "id": "f8442887",
   "metadata": {},
   "outputs": [],
   "source": [
    "X = np.concatenate((x1, x2, x3, x4, x5, x6, x7, x8), axis=0) #concatenate the X\n",
    "Y = np.concatenate((y1,y2, y3, y4, y5, y6, y7, y8), axis=0) #concatenate the Y"
   ]
  },
  {
   "cell_type": "code",
   "execution_count": 13,
   "id": "c9da6ad3",
   "metadata": {},
   "outputs": [
    {
     "name": "stdout",
     "output_type": "stream",
     "text": [
      "shape of the X is  (8, 4)\n",
      "shape of the Y is  (8, 4)\n"
     ]
    }
   ],
   "source": [
    "print(\"shape of the X is \",X.shape)\n",
    "print(\"shape of the Y is \",Y.shape)"
   ]
  },
  {
   "cell_type": "code",
   "execution_count": 14,
   "id": "cc4b4ece",
   "metadata": {},
   "outputs": [],
   "source": [
    "data_points = X.shape[0]  #total number of input data points\n",
    "output_layer_size = Y.shape[1] #number of the neurons in the output layers"
   ]
  },
  {
   "cell_type": "code",
   "execution_count": 16,
   "id": "478b9851",
   "metadata": {},
   "outputs": [],
   "source": [
    "arr = [data_points,500,600,output_layer_size] #making the input arguments in the given format\n",
    "network_new = network(arr) #passing the list and initializing the weights \n",
    "forward_pass = network_new.feed_forward(X) #calling the forward pass method "
   ]
  },
  {
   "cell_type": "code",
   "execution_count": 1171,
   "id": "b24e58d1",
   "metadata": {},
   "outputs": [
    {
     "name": "stdout",
     "output_type": "stream",
     "text": [
      "loss after 0 : 3.980517409588807\n",
      "loss after 1 : 1.672327113439812\n",
      "loss after 2 : 1.0249249317823437\n",
      "loss after 3 : 0.5772763831823768\n",
      "loss after 4 : 0.5037142942151538\n",
      "loss after 5 : 0.381028009361055\n",
      "loss after 6 : 0.3370962053346767\n",
      "loss after 7 : 0.3175709599987642\n",
      "loss after 8 : 0.306064617086993\n",
      "loss after 9 : 0.29913504351674725\n",
      "loss after 10 : 0.29462424229572176\n",
      "loss after 11 : 0.29115233322961126\n",
      "loss after 12 : 0.28875086066305133\n",
      "loss after 13 : 0.287081694672446\n",
      "loss after 14 : 0.2855282268553693\n",
      "loss after 15 : 0.28404889293193086\n",
      "loss after 16 : 0.28342600383189176\n",
      "loss after 17 : 0.2825767480254581\n",
      "loss after 18 : 0.2819752087759752\n",
      "loss after 19 : 0.2812874860064556\n",
      "loss after 20 : 0.28091554046442235\n",
      "loss after 21 : 0.28051493711395475\n",
      "loss after 22 : 0.2800294176329143\n",
      "loss after 23 : 0.27972142232443786\n",
      "loss after 24 : 0.27940194985894246\n",
      "loss after 25 : 0.2789243318081899\n",
      "loss after 26 : 0.2787919895034728\n",
      "loss after 27 : 0.27846135009367134\n",
      "loss after 28 : 0.27818006341680135\n",
      "loss after 29 : 0.2779022080223915\n",
      "loss after 30 : 0.2775095950613535\n",
      "loss after 31 : 0.2773488018913924\n",
      "loss after 32 : 0.2770497564332419\n",
      "loss after 33 : 0.2767243230506185\n",
      "loss after 34 : 0.27660031213455083\n",
      "loss after 35 : 0.276443505542952\n",
      "loss after 36 : 0.2762651990880444\n",
      "loss after 37 : 0.27601355882757467\n",
      "loss after 38 : 0.2759678229277266\n",
      "loss after 39 : 0.27570459889951027\n",
      "loss after 40 : 0.2755836894623255\n",
      "loss after 41 : 0.2754849367922137\n",
      "loss after 42 : 0.27536880550252796\n",
      "loss after 43 : 0.2751319737124778\n",
      "loss after 44 : 0.2750357249680675\n",
      "loss after 45 : 0.2749380868816413\n",
      "loss after 46 : 0.2748424772698101\n",
      "loss after 47 : 0.2746585996623401\n",
      "loss after 48 : 0.2745409260996172\n",
      "loss after 49 : 0.2744833816462615\n",
      "loss after 50 : 0.2743778373802962\n",
      "loss after 51 : 0.27427616710817226\n",
      "loss after 52 : 0.27411080855536396\n",
      "loss after 53 : 0.27407585320235534\n",
      "loss after 54 : 0.2739707840186793\n",
      "loss after 55 : 0.2739069532907099\n",
      "loss after 56 : 0.27381438195407826\n",
      "loss after 57 : 0.27365156569799703\n",
      "loss after 58 : 0.2736715279804271\n",
      "loss after 59 : 0.2735856857343365\n",
      "loss after 60 : 0.27347022562024403\n",
      "loss after 61 : 0.2733863348262688\n",
      "loss after 62 : 0.2733704895992732\n",
      "loss after 63 : 0.2732835840838946\n",
      "loss after 64 : 0.27321863711163574\n",
      "loss after 65 : 0.2731122013740544\n",
      "loss after 66 : 0.2731008905414579\n",
      "loss after 67 : 0.2730287933338837\n",
      "loss after 68 : 0.27299012450703025\n",
      "loss after 69 : 0.27292619753871966\n",
      "loss after 70 : 0.2728048893393498\n",
      "loss after 71 : 0.27282369168850323\n",
      "loss after 72 : 0.27275472724417443\n",
      "loss after 73 : 0.2727150381762993\n",
      "loss after 74 : 0.27265988337762254\n",
      "loss after 75 : 0.27257291614984785\n",
      "loss after 76 : 0.27255461646000767\n",
      "loss after 77 : 0.27253114877670725\n",
      "loss after 78 : 0.27249451263115104\n",
      "loss after 79 : 0.2724300353245641\n",
      "loss after 80 : 0.27236310945688597\n",
      "loss after 81 : 0.27235752157560866\n",
      "loss after 82 : 0.27232112491495675\n",
      "loss after 83 : 0.27229214059312357\n",
      "loss after 84 : 0.2722449576965097\n",
      "loss after 85 : 0.2721812052299821\n",
      "loss after 86 : 0.2721635214947213\n",
      "loss after 87 : 0.27212980109682827\n",
      "loss after 88 : 0.2720854153228891\n",
      "loss after 89 : 0.27205732853366443\n",
      "loss after 90 : 0.27202658682474246\n",
      "loss after 91 : 0.271986336250233\n",
      "loss after 92 : 0.27196351751173736\n",
      "loss after 93 : 0.27192866720374903\n",
      "loss after 94 : 0.2718833136814098\n",
      "loss after 95 : 0.27187027857533375\n",
      "loss after 96 : 0.2718305067056009\n",
      "loss after 97 : 0.27182422572723886\n",
      "loss after 98 : 0.2717866974335695\n",
      "loss after 99 : 0.2717604994411344\n"
     ]
    },
    {
     "data": {
      "image/png": "[encoded data removed]",
      "text/plain": [
       "<Figure size 432x288 with 1 Axes>"
      ]
     },
     "metadata": {
      "needs_background": "light"
     },
     "output_type": "display_data"
    }
   ],
   "source": [
    "sgd_backpropagation = network_new.batch_sgd_backprop(X,Y) #training using batch_sgd_backprop method of the class"
   ]
  },
  {
   "cell_type": "code",
   "execution_count": 1142,
   "id": "4ecae109",
   "metadata": {},
   "outputs": [
    {
     "name": "stdout",
     "output_type": "stream",
     "text": [
      "4\n"
     ]
    }
   ],
   "source": [
    "arr = [data_points,500,600,output_layer_size] #making the input arguments in the given format\n",
    "network_new = network(arr) #passing the list and initializing the weights \n",
    "forward_pass = network_new.feed_forward(X) #calling the forward pass method "
   ]
  },
  {
   "cell_type": "code",
   "execution_count": 1143,
   "id": "beba7508",
   "metadata": {},
   "outputs": [
    {
     "name": "stdout",
     "output_type": "stream",
     "text": [
      "loss after 0 : 5.464193451922486\n",
      "loss after 1 : 1.0835974013866947\n",
      "loss after 2 : 0.6131414578104781\n",
      "loss after 3 : 0.4745379903695737\n",
      "loss after 4 : 0.41824957669705\n",
      "loss after 5 : 0.38949157833670944\n",
      "loss after 6 : 0.37111998384053513\n",
      "loss after 7 : 0.3587586646516038\n",
      "loss after 8 : 0.34834414606077563\n",
      "loss after 9 : 0.33914772749933314\n",
      "loss after 10 : 0.33249181365973013\n",
      "loss after 11 : 0.32605396142774823\n",
      "loss after 12 : 0.3201890668830029\n",
      "loss after 13 : 0.31542577754060375\n",
      "loss after 14 : 0.31230918703130733\n",
      "loss after 15 : 0.3088028825758887\n",
      "loss after 16 : 0.3055751165085432\n",
      "loss after 17 : 0.3032311697136546\n",
      "loss after 18 : 0.30120724132728766\n",
      "loss after 19 : 0.2991959844891921\n",
      "loss after 20 : 0.29746378832580445\n",
      "loss after 21 : 0.29607377784863165\n",
      "loss after 22 : 0.2948983373364873\n",
      "loss after 23 : 0.2935468733380672\n",
      "loss after 24 : 0.29248918623580905\n",
      "loss after 25 : 0.2915602419141918\n",
      "loss after 26 : 0.29060258830747615\n",
      "loss after 27 : 0.28979367720904486\n",
      "loss after 28 : 0.2890581402654748\n",
      "loss after 29 : 0.2883723942994005\n",
      "loss after 30 : 0.287584654160892\n",
      "loss after 31 : 0.2869058331694716\n",
      "loss after 32 : 0.2862847580344383\n",
      "loss after 33 : 0.2859405694811754\n",
      "loss after 34 : 0.2852370589687629\n",
      "loss after 35 : 0.28476594731052896\n",
      "loss after 36 : 0.28406219906897506\n",
      "loss after 37 : 0.283866929899222\n",
      "loss after 38 : 0.2834890655050558\n",
      "loss after 39 : 0.28301973687572074\n",
      "loss after 40 : 0.2826650344905978\n",
      "loss after 41 : 0.28230535166887044\n",
      "loss after 42 : 0.28187641959483695\n",
      "loss after 43 : 0.2816324769983387\n",
      "loss after 44 : 0.2813322878777761\n",
      "loss after 45 : 0.2809576345248747\n",
      "loss after 46 : 0.2806621434822541\n",
      "loss after 47 : 0.2804302561298258\n",
      "loss after 48 : 0.28006535589069037\n",
      "loss after 49 : 0.27991847873061493\n",
      "loss after 50 : 0.27963188764103114\n",
      "loss after 51 : 0.279298084552285\n",
      "loss after 52 : 0.27921836123487453\n",
      "loss after 53 : 0.27900259885381967\n",
      "loss after 54 : 0.27875354935676705\n",
      "loss after 55 : 0.27855208858194386\n",
      "loss after 56 : 0.2783884426394599\n",
      "loss after 57 : 0.27811675606496283\n",
      "loss after 58 : 0.27805588741680676\n",
      "loss after 59 : 0.27783314775113765\n",
      "loss after 60 : 0.2776848771667183\n",
      "loss after 61 : 0.2775246403745634\n",
      "loss after 62 : 0.27732126547108377\n",
      "loss after 63 : 0.27718777142541207\n",
      "loss after 64 : 0.27707446136601643\n",
      "loss after 65 : 0.2769185612221132\n",
      "loss after 66 : 0.2767490475655711\n",
      "loss after 67 : 0.27661697913505706\n",
      "loss after 68 : 0.27651930648099526\n",
      "loss after 69 : 0.2764082090660331\n",
      "loss after 70 : 0.27625316440525455\n",
      "loss after 71 : 0.2761503373521297\n",
      "loss after 72 : 0.2760435009020589\n",
      "loss after 73 : 0.27591919899689443\n",
      "loss after 74 : 0.27579727736119325\n",
      "loss after 75 : 0.27571874470026614\n",
      "loss after 76 : 0.27555378069155995\n",
      "loss after 77 : 0.27552352656596174\n",
      "loss after 78 : 0.27542074005388206\n",
      "loss after 79 : 0.2753337817865232\n",
      "loss after 80 : 0.2751898948673718\n",
      "loss after 81 : 0.27515383440853464\n",
      "loss after 82 : 0.27505421036742106\n",
      "loss after 83 : 0.2749587239748699\n",
      "loss after 84 : 0.27489260697784645\n",
      "loss after 85 : 0.27479070614318535\n",
      "loss after 86 : 0.2747420629255082\n",
      "loss after 87 : 0.2746611229626747\n",
      "loss after 88 : 0.2745857834860286\n",
      "loss after 89 : 0.2745177851689561\n",
      "loss after 90 : 0.27444517437204047\n",
      "loss after 91 : 0.2743684885544939\n",
      "loss after 92 : 0.27429143824028107\n",
      "loss after 93 : 0.27425171625351835\n",
      "loss after 94 : 0.27417346780906543\n",
      "loss after 95 : 0.2741373141428272\n",
      "loss after 96 : 0.2740715331642408\n",
      "loss after 97 : 0.2740052846300427\n",
      "loss after 98 : 0.2739620226006755\n",
      "loss after 99 : 0.2738929319947261\n"
     ]
    },
    {
     "data": {
      "image/png": "[encoded data removed]",
      "text/plain": [
       "<Figure size 432x288 with 1 Axes>"
      ]
     },
     "metadata": {
      "needs_background": "light"
     },
     "output_type": "display_data"
    }
   ],
   "source": [
    "single_backpropagation = network_new.single_example_backprop(X,Y) #training using single_example_backprop method of the class"
   ]
  },
  {
   "cell_type": "code",
   "execution_count": 1172,
   "id": "fff492ff",
   "metadata": {},
   "outputs": [],
   "source": [
    "forward_pass = network_new.feed_forward(X) #testing using same input and forward propagation"
   ]
  },
  {
   "cell_type": "code",
   "execution_count": 1173,
   "id": "b4cdfad0",
   "metadata": {},
   "outputs": [
    {
     "data": {
      "text/plain": [
       "array([[1.18327425, 0.32233094, 1.41507904, 0.4976472 ],\n",
       "       [0.59371621, 0.33964942, 1.61142202, 1.10644708],\n",
       "       [1.76792441, 0.        , 0.004842  , 2.21255543],\n",
       "       [0.63562333, 0.02448867, 0.29244979, 0.05512703],\n",
       "       [0.11708463, 0.22871245, 1.04051129, 1.09230261],\n",
       "       [1.8703168 , 0.5117353 , 0.        , 1.97590546],\n",
       "       [1.33498126, 3.18337686, 0.04676933, 0.        ],\n",
       "       [0.80127666, 0.2265875 , 0.79707153, 0.80648416]])"
      ]
     },
     "execution_count": 1173,
     "metadata": {},
     "output_type": "execute_result"
    }
   ],
   "source": [
    "forward_pass[0]"
   ]
  },
  {
   "cell_type": "code",
   "execution_count": 1174,
   "id": "1d6c7020",
   "metadata": {},
   "outputs": [
    {
     "data": {
      "text/plain": [
       "array([[1.18574581, 0.32358361, 1.41397421, 0.49621066],\n",
       "       [0.55745554, 0.32228346, 1.6372529 , 1.11809751],\n",
       "       [1.76766375, 0.031297  , 0.00528467, 2.21268719],\n",
       "       [0.62156476, 0.01821452, 0.30592892, 0.05512306],\n",
       "       [0.11542194, 0.22798207, 1.04197003, 1.09291071],\n",
       "       [1.8642064 , 0.5113272 , 1.47201267, 1.97652977],\n",
       "       [1.33535055, 3.18363107, 0.04641874, 0.00702173],\n",
       "       [0.82547619, 0.24321644, 0.78110122, 0.79788594]])"
      ]
     },
     "execution_count": 1174,
     "metadata": {},
     "output_type": "execute_result"
    }
   ],
   "source": [
    "Y"
   ]
  },
  {
   "cell_type": "code",
   "execution_count": 1181,
   "id": "d0a2c4ef",
   "metadata": {},
   "outputs": [],
   "source": [
    "error = np.square(forward_pass[0] - Y).mean() #error for the testing"
   ]
  },
  {
   "cell_type": "code",
   "execution_count": 1182,
   "id": "19345339",
   "metadata": {},
   "outputs": [
    {
     "name": "stdout",
     "output_type": "stream",
     "text": [
      "error is : 0.06787295498749263\n"
     ]
    }
   ],
   "source": [
    "print(\"error is : {}\".format(error))"
   ]
  },
  {
   "cell_type": "code",
   "execution_count": null,
   "id": "b3659415",
   "metadata": {},
   "outputs": [],
   "source": []
  },
  {
   "cell_type": "code",
   "execution_count": null,
   "id": "cb217244",
   "metadata": {},
   "outputs": [],
   "source": []
  },
  {
   "cell_type": "code",
   "execution_count": null,
   "id": "6b174308",
   "metadata": {},
   "outputs": [],
   "source": []
  }
 ],
 "metadata": {
  "kernelspec": {
   "display_name": "Python 3 (ipykernel)",
   "language": "python",
   "name": "python3"
  },
  "language_info": {
   "codemirror_mode": {
    "name": "ipython",
    "version": 3
   },
   "file_extension": ".py",
   "mimetype": "text/x-python",
   "name": "python",
   "nbconvert_exporter": "python",
   "pygments_lexer": "ipython3",
   "version": "3.8.12"
  }
 },
 "nbformat": 4,
 "nbformat_minor": 5
}
