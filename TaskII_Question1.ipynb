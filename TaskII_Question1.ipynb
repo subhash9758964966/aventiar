{
 "cells": [
  {
   "cell_type": "code",
   "execution_count": 12,
   "id": "e39db0d8",
   "metadata": {},
   "outputs": [],
   "source": [
    "def relu(Z):    \n",
    "    A = np.maximum(0,Z)  #Relu function = max(0, Z)\n",
    "    cache = Z \n",
    "    return A, cache\n",
    "\n",
    "def relu_backward(dA, cache):\n",
    "    Z = cache\n",
    "    dZ = np.array(dA, copy=True) # just converting dz to a correct object.   \n",
    "    dZ[Z <= 0] = 0   \n",
    "    return dZ"
   ]
  },
  {
   "cell_type": "code",
   "execution_count": 13,
   "id": "d892a248",
   "metadata": {},
   "outputs": [],
   "source": [
    "def forward(A, W, b):\n",
    "    \n",
    "    Z = np.dot(W,A) + b # Z = X.Transpose(W)\n",
    "    A, cache = relu(Z) #calculate the relu of the output\n",
    "    cache = (A, W, b)\n",
    "    \n",
    "    return Z, cache"
   ]
  },
  {
   "cell_type": "code",
   "execution_count": 14,
   "id": "8257632d",
   "metadata": {},
   "outputs": [],
   "source": [
    "def compute_cost(AL, Y):\n",
    "    m = Y.shape[1]\n",
    "    # Compute loss from aL and y. using mean square error to compute the loss\n",
    "    cost = np.square(Y - AL).mean() #means square error = 1/2*(y-AL)**2\n",
    "    return cost"
   ]
  },
  {
   "cell_type": "code",
   "execution_count": 15,
   "id": "2a4d8536",
   "metadata": {},
   "outputs": [],
   "source": [
    "def backward(dA, cache):\n",
    "     # Here cache is \"linear_cache\" containing (A_prev, W, b) coming from the forward propagation in the current layer\n",
    "    A_prev, W, b = cache\n",
    "    m = A_prev.shape[1] \n",
    "    dw = (1/m)*np.dot(dA, A_prev.T)  #dL/dw = dl/dz*output_from_previous_neurons, where L is cost function\n",
    "    db = (1/m) * np.sum(dZ, axis=1, keepdims=True)  #dl/la_prev  = dl/dz* W \n",
    "    dA_prev = np.dot(W.T,dZ)\n",
    "    return dA_prev, dW, db"
   ]
  },
  {
   "cell_type": "code",
   "execution_count": 16,
   "id": "7fd6a678",
   "metadata": {},
   "outputs": [],
   "source": [
    "def backprop(mini_batch):\n",
    "    X_batch, Y_batch = mini_batch #taking batch\n",
    "    A = X_batch\n",
    "    AL, cache = forward(A, w, b) #forward pass\n",
    "    cost = compute_cost(AL, Y_batch) #computing cost\n",
    "    dA = AL-Y_batch     #calculate gradient with respect to output\n",
    "    dZ = relu_backward(dA, activation_cache = \"relu\") #gradient for relu of the output\n",
    "    dA_prev, dW, db = backward(dA, cache) #backward pass\n",
    "    return dW, db"
   ]
  },
  {
   "cell_type": "code",
   "execution_count": 11,
   "id": "d5b5e8d9",
   "metadata": {},
   "outputs": [],
   "source": [
    "for mini_batch in mini_batches:\n",
    "\n",
    "    Db, Dw = backprop(mini_batch)\n",
    "\n",
    "    b = b - eta*Db\n",
    "\n",
    "    w = w - eta*Dw"
   ]
  },
  {
   "cell_type": "code",
   "execution_count": null,
   "id": "aa59fc0e",
   "metadata": {},
   "outputs": [],
   "source": []
  }
 ],
 "metadata": {
  "kernelspec": {
   "display_name": "Python 3 (ipykernel)",
   "language": "python",
   "name": "python3"
  },
  "language_info": {
   "codemirror_mode": {
    "name": "ipython",
    "version": 3
   },
   "file_extension": ".py",
   "mimetype": "text/x-python",
   "name": "python",
   "nbconvert_exporter": "python",
   "pygments_lexer": "ipython3",
   "version": "3.8.12"
  }
 },
 "nbformat": 4,
 "nbformat_minor": 5
}
